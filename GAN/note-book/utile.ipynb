{
 "cells": [
  {
   "cell_type": "code",
   "execution_count": 25,
   "metadata": {},
   "outputs": [],
   "source": [
    "import pandas as pd\n",
    "from nfstream import NFStreamer\n",
    "import os, re, yaml, sys\n",
    "import numpy as np\n",
    "sys.path.append(os.path.abspath('/home/mehrdad/PycharmProjects/GAN-Framework'))\n",
    "from sklearn.model_selection import train_test_split\n",
    "\n"
   ]
  },
  {
   "cell_type": "code",
   "execution_count": 26,
   "metadata": {},
   "outputs": [
    {
     "name": "stdout",
     "output_type": "stream",
     "text": [
      " X_train : (800, 78) X_test: (200, 78) y_tarin: (800,) y_test (200,)\n",
      " y_train : Benign 710 Malicous 90 ///  y_test: Benign 178 Malicous: 22\n"
     ]
    }
   ],
   "source": [
    "df = pd.read_csv(\"/home/mehrdad/PycharmProjects/C2_communication/dataset/combined-benign-malcious/benign_deepred-autoc2-2-3-2025-001.csv\").sample(1000)\n",
    "x = df\n",
    "X_train, X_test, y_train, y_test = train_test_split(x.loc[:, x.columns != \"label\"], x.loc[:, x.columns == \"label\"].values.ravel(),stratify=x.loc[:, x.columns == \"label\"].values.ravel()\n",
    "                                                    , test_size=0.2, random_state=42)\n",
    "print(f\" X_train : {X_train.shape} X_test: {X_test.shape} y_tarin: {y_train.shape} y_test {y_test.shape}\")\n",
    "print(f\" y_train : Benign {np.count_nonzero(y_train == 0)} Malicous {np.count_nonzero(y_train == 1)} ///  y_test: Benign {np.count_nonzero(y_test == 0)} Malicous: {np.count_nonzero(y_test == 1)}\")\n"
   ]
  },
  {
   "cell_type": "code",
   "execution_count": 27,
   "metadata": {},
   "outputs": [
    {
     "name": "stdout",
     "output_type": "stream",
     "text": [
      " X_train : (800, 78) X_test: (200, 78) y_tarin: (800,) y_test (200,)\n",
      " y_train : Benign 691 Malicous 109 ///  y_test: Benign 176 Malicous: 24\n"
     ]
    }
   ],
   "source": [
    "df = pd.read_csv(\"/home/mehrdad/PycharmProjects/C2_communication/dataset/combined-benign-malcious/benign_deepred-autoc2-2-3-2025-001.csv\").sample(1000)\n",
    "x = df\n",
    "X_train, X_test, y_train, y_test = train_test_split(x.loc[:, x.columns != \"label\"], x.loc[:, x.columns == \"label\"].values.ravel(), test_size=0.2, random_state=42)\n",
    "print(f\" X_train : {X_train.shape} X_test: {X_test.shape} y_tarin: {y_train.shape} y_test {y_test.shape}\")\n",
    "print(f\" y_train : Benign {np.count_nonzero(y_train == 0)} Malicous {np.count_nonzero(y_train == 1)} ///  y_test: Benign {np.count_nonzero(y_test == 0)} Malicous: {np.count_nonzero(y_test == 1)}\")\n"
   ]
  },
  {
   "cell_type": "code",
   "execution_count": 22,
   "metadata": {},
   "outputs": [
    {
     "name": "stdout",
     "output_type": "stream",
     "text": [
      "YAML file '/home/mehrdad/PycharmProjects/C2_communication/GAN/output.yaml' has been updated with the data from config_single_file.\n",
      "YAML file '/home/mehrdad/PycharmProjects/C2_communication/GAN/output.yaml' has been updated with the data from config_double_file.\n"
     ]
    }
   ],
   "source": [
    "import pandas as pd\n",
    "import yaml\n",
    "import os\n",
    "\n",
    "def update_yaml_with_df(df, yaml_file, filename):\n",
    "    # Initialize the dictionary for storing the data\n",
    "    data = {}\n",
    "\n",
    "    # Check the shape of the DataFrame (number of columns)\n",
    "    if df.shape[1] == 1:\n",
    "        # If there's only one column, store it under the column name in a dictionary format\n",
    "        column_name = df.columns[0]\n",
    "        data[filename] = {column_name: df[column_name].tolist()}\n",
    "    elif df.shape[1] == 2:\n",
    "        # If there are two columns, store each column separately in a dictionary format\n",
    "        col1, col2 = df.columns\n",
    "        data[filename] = {col1: df[col1].tolist(), col2: df[col2].tolist()}\n",
    "\n",
    "    # Check if the YAML file exists and load it, otherwise create an empty dictionary\n",
    "    if os.path.exists(yaml_file):\n",
    "        with open(yaml_file, 'r') as file:\n",
    "            existing_data = yaml.safe_load(file) or {}\n",
    "    else:\n",
    "        existing_data = {}\n",
    "\n",
    "    # Update the existing data with the new data\n",
    "    existing_data.update(data)\n",
    "\n",
    "    # Write the updated data back to the YAML file in the desired format (one-line per entry)\n",
    "    with open(yaml_file, 'w') as file:\n",
    "        yaml.dump(existing_data, file, default_flow_style=True, allow_unicode=True)\n",
    "\n",
    "    print(f\"YAML file '{yaml_file}' has been updated with the data from {filename}.\")\n",
    "\n",
    "# Example usage:\n",
    "\n",
    "# Sample DataFrame with one column\n",
    "df_single = pd.DataFrame({\n",
    "    'dst2src_bytes': [44, 28, 26, 34, 34, 33, 33, 30, 28, 35]\n",
    "})\n",
    "\n",
    "# Sample DataFrame with two columns\n",
    "df_double = pd.DataFrame({\n",
    "    'dst2src_bytes': [44, 28, 26, 34, 34, 33, 33, 30, 28, 35],\n",
    "    'dst2src_max_ps': [155, 95, 92, 115, 124, 118, 115, 108, 110, 125]\n",
    "})\n",
    "\n",
    "# Path to the YAML file\n",
    "yaml_file = '/home/mehrdad/PycharmProjects/C2_communication/GAN/output.yaml'\n",
    "\n",
    "# Update the YAML file with data from the DataFrames\n",
    "update_yaml_with_df(df_single, yaml_file, \"config_single_file\")\n",
    "update_yaml_with_df(df_double, yaml_file, \"config_double_file\")\n"
   ]
  },
  {
   "cell_type": "code",
   "execution_count": 2,
   "metadata": {},
   "outputs": [],
   "source": [
    "def converting_pcap(src_path:str):\n",
    "    print('Converting ...')\n",
    "    my_streamer = NFStreamer(source=src_path,\n",
    "                            # Disable L7 dissection for readability purpose.\n",
    "                            n_dissections=0,\n",
    "                            #idle_timeout= 600,\n",
    "                            #active_timeout= 1800, \n",
    "                            accounting_mode= 3, \n",
    "                            statistical_analysis=True)\n",
    "    df = my_streamer.to_pandas(columns_to_anonymize=[])\n",
    "    print(df.shape)\n",
    "    print(df.columns)\n",
    "    print(df['src_ip'].value_counts())\n",
    "    return(df)\n",
    "def list_csv_files(folder_path):\n",
    "    # List all files in the specified folder\n",
    "    files = os.listdir(folder_path)\n",
    "\n",
    "    # Filter and return only the CSV files\n",
    "    csv_files = [file for file in files if file.endswith('.csv')]\n",
    "    return csv_files\n",
    "feature =['bidirectional_packets','bidirectional_bytes','bidirectional_min_ps',\n",
    "                            'bidirectional_mean_ps','bidirectional_stddev_ps', 'bidirectional_max_ps' ,\n",
    "                            'bidirectional_min_piat_ms','bidirectional_mean_piat_ms',\n",
    "                            'bidirectional_stddev_piat_ms', 'bidirectional_max_piat_ms', 'bidirectional_syn_packets' ,\n",
    "                            'bidirectional_cwr_packets', 'bidirectional_ece_packets','bidirectional_urg_packets',\n",
    "                            'bidirectional_ack_packets', 'bidirectional_psh_packets', 'bidirectional_rst_packets' ,\n",
    "                            'bidirectional_fin_packets'\n",
    "                            ,\n",
    "                            'src2dst_packets', 'src2dst_bytes', 'src2dst_min_ps',\n",
    "                            'src2dst_mean_ps',\n",
    "                            'src2dst_stddev_ps', 'src2dst_max_ps', 'src2dst_min_piat_ms',\n",
    "                            'src2dst_mean_piat_ms',\n",
    "                            'src2dst_stddev_piat_ms', 'src2dst_max_piat_ms', 'src2dst_syn_packets',\n",
    "                            'src2dst_cwr_packets', 'src2dst_ece_packets', 'src2dst_urg_packets',\n",
    "                            'src2dst_ack_packets', 'src2dst_psh_packets', 'src2dst_rst_packets',\n",
    "                            'src2dst_fin_packets'\n",
    "                            ,\n",
    "                            'dst2src_packets', 'dst2src_bytes', 'dst2src_min_ps',\n",
    "                            'dst2src_mean_ps',\n",
    "                            'dst2src_stddev_ps', 'dst2src_max_ps', 'dst2src_min_piat_ms',\n",
    "                            'dst2src_mean_piat_ms',\n",
    "                            'dst2src_stddev_piat_ms', 'dst2src_max_piat_ms', 'dst2src_syn_packets',\n",
    "                            'dst2src_cwr_packets', 'dst2src_ece_packets', 'dst2src_urg_packets',\n",
    "                            'dst2src_ack_packets', 'dst2src_psh_packets', 'dst2src_rst_packets',\n",
    "                            'dst2src_fin_packets'\n",
    "                            ]"
   ]
  },
  {
   "cell_type": "code",
   "execution_count": 63,
   "metadata": {},
   "outputs": [],
   "source": [
    "addr = \"/mnt/KN_mhaj/red-team-pcap/\"\n",
    "file_lst = [\"darktrace-agents-normal-with_email_10.April.2024.pcap\",\"darktrace-agents-normal-with_email_11.march.2024.pcap\",\n",
    "             \"darktrace-agents-normal-with_email_16.April.2024.pcap\", \"darktrace-agents-normal-with_email_5.march.2024.pcap\",\n",
    "             \"5-darktrace-agents-normal-20-11-2023.pcap\", \"5-darktrace-agents-normal-23-11-2023.pcap\"]"
   ]
  },
  {
   "cell_type": "code",
   "execution_count": 8,
   "metadata": {},
   "outputs": [
    {
     "name": "stdout",
     "output_type": "stream",
     "text": [
      "Converting ...\n",
      "(2286, 77)\n",
      "Index(['id', 'expiration_id', 'src_ip', 'src_mac', 'src_oui', 'src_port',\n",
      "       'dst_ip', 'dst_mac', 'dst_oui', 'dst_port', 'protocol', 'ip_version',\n",
      "       'vlan_id', 'tunnel_id', 'bidirectional_first_seen_ms',\n",
      "       'bidirectional_last_seen_ms', 'bidirectional_duration_ms',\n",
      "       'bidirectional_packets', 'bidirectional_bytes', 'src2dst_first_seen_ms',\n",
      "       'src2dst_last_seen_ms', 'src2dst_duration_ms', 'src2dst_packets',\n",
      "       'src2dst_bytes', 'dst2src_first_seen_ms', 'dst2src_last_seen_ms',\n",
      "       'dst2src_duration_ms', 'dst2src_packets', 'dst2src_bytes',\n",
      "       'bidirectional_min_ps', 'bidirectional_mean_ps',\n",
      "       'bidirectional_stddev_ps', 'bidirectional_max_ps', 'src2dst_min_ps',\n",
      "       'src2dst_mean_ps', 'src2dst_stddev_ps', 'src2dst_max_ps',\n",
      "       'dst2src_min_ps', 'dst2src_mean_ps', 'dst2src_stddev_ps',\n",
      "       'dst2src_max_ps', 'bidirectional_min_piat_ms',\n",
      "       'bidirectional_mean_piat_ms', 'bidirectional_stddev_piat_ms',\n",
      "       'bidirectional_max_piat_ms', 'src2dst_min_piat_ms',\n",
      "       'src2dst_mean_piat_ms', 'src2dst_stddev_piat_ms', 'src2dst_max_piat_ms',\n",
      "       'dst2src_min_piat_ms', 'dst2src_mean_piat_ms', 'dst2src_stddev_piat_ms',\n",
      "       'dst2src_max_piat_ms', 'bidirectional_syn_packets',\n",
      "       'bidirectional_cwr_packets', 'bidirectional_ece_packets',\n",
      "       'bidirectional_urg_packets', 'bidirectional_ack_packets',\n",
      "       'bidirectional_psh_packets', 'bidirectional_rst_packets',\n",
      "       'bidirectional_fin_packets', 'src2dst_syn_packets',\n",
      "       'src2dst_cwr_packets', 'src2dst_ece_packets', 'src2dst_urg_packets',\n",
      "       'src2dst_ack_packets', 'src2dst_psh_packets', 'src2dst_rst_packets',\n",
      "       'src2dst_fin_packets', 'dst2src_syn_packets', 'dst2src_cwr_packets',\n",
      "       'dst2src_ece_packets', 'dst2src_urg_packets', 'dst2src_ack_packets',\n",
      "       'dst2src_psh_packets', 'dst2src_rst_packets', 'dst2src_fin_packets'],\n",
      "      dtype='object')\n",
      "src_ip\n",
      "10.11.54.223    742\n",
      "10.11.54.115    638\n",
      "10.11.54.186    490\n",
      "10.11.54.27     248\n",
      "10.11.54.187    160\n",
      "10.11.54.137      8\n",
      "Name: count, dtype: int64\n"
     ]
    }
   ],
   "source": [
    "df = converting_pcap(\"/mnt/KN_mhaj/red-team-pcap/deepred-websocket-c2-2025/c2-bot-deepred-2-3-2025-002.pcap\")\n"
   ]
  },
  {
   "cell_type": "code",
   "execution_count": null,
   "metadata": {},
   "outputs": [],
   "source": [
    "#df.to_csv(f\"/home/mehrdad/PycharmProjects/C2_communication/dataset/deepred-auto-c2/combined/deepred_autoc2_labeled_1-3-2025-001.csv\",  index=False)"
   ]
  },
  {
   "cell_type": "code",
   "execution_count": 9,
   "metadata": {},
   "outputs": [],
   "source": [
    "#df[df[\"dst_port\"]!= 5000].value_counts().sum()\n",
    "df[\"label\"] = 0\n",
    "df.loc[df[\"dst_port\"]== 5000, \"label\"]=1"
   ]
  },
  {
   "cell_type": "code",
   "execution_count": 10,
   "metadata": {},
   "outputs": [],
   "source": [
    "df[\"attack\"] = \"DeepRed auto-c2\""
   ]
  },
  {
   "cell_type": "code",
   "execution_count": 15,
   "metadata": {},
   "outputs": [],
   "source": [
    "df.to_csv(f\"/home/mehrdad/PycharmProjects/C2_communication/dataset/deepred-auto-c2/c2-bot-deepred-2-3-2025-002.csv\",  index=False)"
   ]
  },
  {
   "cell_type": "code",
   "execution_count": 48,
   "metadata": {},
   "outputs": [
    {
     "name": "stdout",
     "output_type": "stream",
     "text": [
      "None\n",
      "['c2-bot-deepred-28-2-2025-002.csv', 'c2-bot-deepred-28-2-2025.csv', 'c2-bot-deepred-27-2-2025.csv', 'c2-bot-deepred-28-2-2025-001.csv', 'c2-bot-deepred-1-3-2025-000.csv', 'c2-bot-deepred-28-2-2025-004.csv', 'readme.txt']\n"
     ]
    }
   ],
   "source": [
    "print(list_csv_files(\"/home/mehrdad/PycharmProjects/C2_communication/dataset/2025/\"))\n",
    "print( os.listdir(\"/home/mehrdad/PycharmProjects/C2_communication/dataset/2025/\"))"
   ]
  },
  {
   "cell_type": "code",
   "execution_count": 67,
   "metadata": {},
   "outputs": [
    {
     "name": "stdout",
     "output_type": "stream",
     "text": [
      "File: darktrace-agents-normal-with_email_16.April.2024.csv shape: (35359, 77)\n",
      "File: 5-darktrace-agents-normal-23-11-2023.csv shape: (44379, 77)\n",
      "File: darktrace-agents-normal-with_email_11.march.2024.csv shape: (30898, 77)\n",
      "File: 5-darktrace-agents-normal-20-11-2023.csv shape: (39355, 77)\n",
      "File: darktrace-agents-normal-with_email_5.march.2024.csv shape: (44439, 77)\n",
      "File: darktrace-agents-normal-with_email_10.April.2024.csv shape: (10193, 77)\n"
     ]
    }
   ],
   "source": [
    "csv_lst = list_csv_files(\"/home/mehrdad/PycharmProjects/C2_communication/dataset/benign/\")\n",
    "s = 0\n",
    "ds = []\n",
    "for csv in csv_lst:\n",
    "    df= pd.read_csv(\"/home/mehrdad/PycharmProjects/C2_communication/dataset/benign/\" +csv)\n",
    "    print(f\"File: {csv} shape: {df.shape}\")\n",
    "    ds.append(df)\n",
    "\n",
    "combined = pd.concat(ds, axis=0)"
   ]
  },
  {
   "cell_type": "code",
   "execution_count": 70,
   "metadata": {},
   "outputs": [],
   "source": [
    "#combined[\"src_ip\"].value_counts()\n",
    "combined['label']= 0\n",
    "combined['attack'] = \"benign\"\n",
    "combined.to_csv(\"/home/mehrdad/PycharmProjects/C2_communication/dataset/benign/combined_benign_1-3-2025.csv\", index=False)\n"
   ]
  },
  {
   "cell_type": "code",
   "execution_count": 16,
   "metadata": {},
   "outputs": [
    {
     "name": "stdout",
     "output_type": "stream",
     "text": [
      "(231516, 79) label\n",
      "0    204658\n",
      "1     26858\n",
      "Name: count, dtype: int64\n"
     ]
    }
   ],
   "source": [
    "b = pd.read_csv(\"/home/mehrdad/PycharmProjects/C2_communication/dataset/combined-benign-malcious/benign_deepred-autoc2-2-3-2025.csv\")\n",
    "m = pd.read_csv(\"/home/mehrdad/PycharmProjects/C2_communication/dataset/deepred-auto-c2/c2-bot-deepred-2-3-2025-001.csv\")\n",
    "mm = pd.read_csv(\"/home/mehrdad/PycharmProjects/C2_communication/dataset/deepred-auto-c2/c2-bot-deepred-2-3-2025-002.csv\")\n",
    "\n",
    "a = []\n",
    "a.append(b)\n",
    "a.append(m)\n",
    "a.append(mm)\n",
    "\n",
    "df = pd.concat(a, axis=0).sample(frac=1)\n",
    "\n",
    "print(df.shape,df[\"label\"].value_counts())\n",
    "\n",
    "df.to_csv(\"/home/mehrdad/PycharmProjects/C2_communication/dataset/combined-benign-malcious/benign_deepred-autoc2-2-3-2025-001.csv\",index=False)"
   ]
  },
  {
   "cell_type": "code",
   "execution_count": 36,
   "metadata": {},
   "outputs": [
    {
     "name": "stdout",
     "output_type": "stream",
     "text": [
      "Mean of Column 1: 72.24617125\n",
      "Mean of Column 2: 89.576685625\n"
     ]
    }
   ],
   "source": [
    "import numpy as np\n",
    "\n",
    "# Creating the 2D array\n",
    "array_2d = np.array([[66.54567, 76.29591],\n",
    "                     [69.222984, 91.13275],\n",
    "                     [75.40423, 97.87395],\n",
    "                     [69.54005, 82.37642],\n",
    "                     [74.13337, 93.32363],\n",
    "                     [66.32373, 80.662125],\n",
    "                     [74.05637, 90.54689],\n",
    "                     [82.742966, 104.40181]])\n",
    "\n",
    "# Calculating the mean of each column\n",
    "mean_column_1 = np.mean(array_2d[:, 0])\n",
    "mean_column_2 = np.mean(array_2d[:, 1])\n",
    "\n",
    "# Printing the means\n",
    "print(\"Mean of Column 1:\", mean_column_1)\n",
    "print(\"Mean of Column 2:\", mean_column_2)\n"
   ]
  },
  {
   "cell_type": "code",
   "execution_count": null,
   "metadata": {},
   "outputs": [],
   "source": [
    "b = ([5.9803128e-06],\n",
    " [7.2192784e-06],\n",
    " [3.8877144e-05],\n",
    " [2.3736484e-06],\n",
    " [1.4378369e-08],\n",
    " [1.8284362e-06],\n",
    " [1.8894058e-05],\n",
    " [8.0419471e-07],\n",
    " [1.9639795e-07],\n",
    " [8.2813204e-07])\n",
    "#b = np.random.random(10)\n",
    "\n",
    "# This is the outer loop\n",
    "while True:\n",
    "    print(\"Starting the loop from the beginning.\")\n",
    "    \n",
    "    # This is the inner loop (same as your for loop in original question)\n",
    "    for i in range(10):\n",
    "        print(f\"  Iteration {i + 1} of the loop\")\n",
    "        \n",
    "        # Check if the condition is met\n",
    "        if np.mean(b) < 0.01:\n",
    "            print(\"  Condition met! Restarting the loop.\")\n",
    "            #b = np.random.random(10)  # Reset `b` or other variables\n",
    "            break  # Break the inner loop to start again from the beginning\n",
    "        else:\n",
    "            # Continue with the normal processing if condition isn't met\n",
    "            print(\"  Condition not met. Continuing...\")\n",
    "            # Update b or perform your regular logic here\n",
    "\n",
    "    else:\n",
    "        # If the inner loop completes without breaking, exit the loop\n",
    "        print(\"  Loop completed without restart condition met.\")\n",
    "        break"
   ]
  },
  {
   "cell_type": "code",
   "execution_count": 46,
   "metadata": {},
   "outputs": [],
   "source": [
    "feature = [ 'src2dst_packets','src2dst_bytes','dst2src_packets','dst2src_bytes','src2dst_max_ps','dst2src_max_ps', 'label']\n",
    "df= pd.read_csv(\"/home/mehrdad/PycharmProjects/C2_communication/dataset/combined-benign-malcious/benign_deepred-autoc2-2-3-2025.csv\").loc[:,feature]"
   ]
  },
  {
   "cell_type": "code",
   "execution_count": 48,
   "metadata": {},
   "outputs": [
    {
     "name": "stdout",
     "output_type": "stream",
     "text": [
      "                 src2dst_packets  src2dst_bytes  dst2src_packets  \\\n",
      "src2dst_packets         1.000000       0.466111         0.913030   \n",
      "src2dst_bytes           0.466111       1.000000         0.363342   \n",
      "dst2src_packets         0.913030       0.363342         1.000000   \n",
      "dst2src_bytes           0.869668       0.238524         0.842937   \n",
      "src2dst_max_ps          0.165314       0.319071         0.107014   \n",
      "dst2src_max_ps          0.393105       0.052099         0.200098   \n",
      "\n",
      "                 dst2src_bytes  src2dst_max_ps  dst2src_max_ps  \n",
      "src2dst_packets       0.869668        0.165314        0.393105  \n",
      "src2dst_bytes         0.238524        0.319071        0.052099  \n",
      "dst2src_packets       0.842937        0.107014        0.200098  \n",
      "dst2src_bytes         1.000000        0.079041        0.491899  \n",
      "src2dst_max_ps        0.079041        1.000000        0.199337  \n",
      "dst2src_max_ps        0.491899        0.199337        1.000000  \n"
     ]
    },
    {
     "data": {
      "image/png": "[encoded data removed]",
      "text/plain": [
       "<Figure size 800x600 with 2 Axes>"
      ]
     },
     "metadata": {},
     "output_type": "display_data"
    }
   ],
   "source": [
    "import pandas as pd\n",
    "import seaborn as sns\n",
    "import matplotlib.pyplot as plt\n",
    "\n",
    "benign = df[df[\"label\"]==0]\n",
    "correlation_matrix = benign.loc[:, benign.columns != \"label\"].corr()\n",
    "print(correlation_matrix)\n",
    "plt.figure(figsize=(8, 6))  # Adjust figure size as needed\n",
    "sns.heatmap(correlation_matrix, annot=True, cmap='coolwarm', fmt='.2f', linewidths=0.5)\n",
    "\n",
    "# Set the title for the heatmap\n",
    "plt.title(\"Feature Correlation Matrix\")\n",
    "\n",
    "# Show the plot\n",
    "plt.show()\n"
   ]
  },
  {
   "cell_type": "code",
   "execution_count": 53,
   "metadata": {},
   "outputs": [
    {
     "name": "stdout",
     "output_type": "stream",
     "text": [
      "['src2dst_packets']\n",
      "['src2dst_bytes']\n",
      "['dst2src_packets']\n",
      "['dst2src_bytes']\n",
      "['src2dst_max_ps']\n",
      "['dst2src_max_ps']\n",
      "['src2dst_packets', 'src2dst_bytes']\n",
      "['src2dst_packets', 'src2dst_max_ps']\n",
      "['src2dst_packets', 'dst2src_max_ps']\n",
      "['src2dst_bytes', 'dst2src_packets']\n",
      "['src2dst_bytes', 'dst2src_bytes']\n",
      "['src2dst_bytes', 'src2dst_max_ps']\n",
      "['src2dst_bytes', 'dst2src_max_ps']\n",
      "['dst2src_packets', 'src2dst_max_ps']\n",
      "['dst2src_packets', 'dst2src_max_ps']\n",
      "['dst2src_bytes', 'src2dst_max_ps']\n",
      "['dst2src__bytes', 'dst2src_min_ps']\n",
      "['dst2src_bytes', 'dst2src_max_ps']\n"
     ]
    }
   ],
   "source": [
    "import yaml\n",
    "with open(\"/home/mehrdad/PycharmProjects/C2_communication/GAN/gan_config.yaml\", \"r\") as file:\n",
    "    config = yaml.safe_load(file)\n",
    "for item in config[\"adversarial_features\"]:\n",
    "    print(item)"
   ]
  },
  {
   "cell_type": "code",
   "execution_count": 57,
   "metadata": {},
   "outputs": [
    {
     "data": {
      "text/plain": [
       "(10, 1)"
      ]
     },
     "execution_count": 57,
     "metadata": {},
     "output_type": "execute_result"
    }
   ],
   "source": [
    "b = np.array(([5.9803128e-06],\n",
    " [7.2192784e-06],\n",
    " [3.8877144e-05],\n",
    " [2.3736484e-06],\n",
    " [1.4378369e-08],\n",
    " [1.8284362e-06],\n",
    " [1.8894058e-05],\n",
    " [8.0419471e-07],\n",
    " [1.9639795e-07],\n",
    " [8.2813204e-07]))\n",
    "b.shape"
   ]
  }
 ],
 "metadata": {
  "kernelspec": {
   "display_name": ".venv",
   "language": "python",
   "name": "python3"
  },
  "language_info": {
   "codemirror_mode": {
    "name": "ipython",
    "version": 3
   },
   "file_extension": ".py",
   "mimetype": "text/x-python",
   "name": "python",
   "nbconvert_exporter": "python",
   "pygments_lexer": "ipython3",
   "version": "3.11.11"
  }
 },
 "nbformat": 4,
 "nbformat_minor": 2
}
