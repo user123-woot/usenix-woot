{
 "cells": [
  {
   "cell_type": "code",
   "execution_count": 1,
   "metadata": {},
   "outputs": [],
   "source": [
    "import pandas as pd\n",
    "import numpy as np"
   ]
  },
  {
   "cell_type": "code",
   "execution_count": 2,
   "metadata": {},
   "outputs": [],
   "source": [
    "df = pd.read_csv(\"/home/mehrdad/PycharmProjects/GAN-Framework/dataset/red-team2/deployment_ds/red-team2_merge.csv\")\n",
    "adversarial_feature =[\"src2dst_packets\"]\n",
    "\n",
    "latent_dim = 100\n",
    "mutable_size = len(adversarial_feature)\n",
    "immutable_size = df.shape[1]-mutable_size - 1 "
   ]
  },
  {
   "cell_type": "code",
   "execution_count": 71,
   "metadata": {},
   "outputs": [
    {
     "name": "stdout",
     "output_type": "stream",
     "text": [
      "/home/mehrdad/Desktop\n"
     ]
    }
   ],
   "source": [
    "from pathlib import Path\n",
    "\n",
    "# Dynamically resolve the user's home directory\n",
    "home_directory = Path.home()\n",
    "\n",
    "# Construct the full path dynamically\n",
    "target_path = home_directory / \"Desktop\" \n",
    "print(target_path)"
   ]
  },
  {
   "cell_type": "code",
   "execution_count": null,
   "metadata": {},
   "outputs": [],
   "source": [
    "import time\n"
   ]
  },
  {
   "cell_type": "code",
   "execution_count": 11,
   "metadata": {},
   "outputs": [
    {
     "name": "stdout",
     "output_type": "stream",
     "text": [
      "   src2dst_packets_1  src2dst_packets_2  src2dst_packets_3\n",
      "0           0.019598           0.231312           0.350815\n",
      "1           0.266184           0.077259           0.232970\n",
      "2           0.989140           0.262264           0.428350\n",
      "3           0.520115           0.460248           0.308563\n",
      "4           0.819809           0.980326           0.151246\n",
      "5           0.133365           0.665965           0.049709\n",
      "6           0.134242           0.968221           0.459258\n",
      "7           0.274244           0.540416           0.392943\n",
      "8           0.492037           0.507474           0.706678\n",
      "9           0.250780           0.548400           0.396582\n"
     ]
    }
   ],
   "source": [
    "import numpy as np\n",
    "import pandas as pd\n",
    "\n",
    "# Example for a 2D numpy array (shape: (n, m))\n",
    "pertubed_adversarial_feature = np.random.rand(10, 3)  # 10 samples, 3 features\n",
    "\n",
    "# Define column names\n",
    "adversarial_feature = [\"src2dst_packets_1\", \"src2dst_packets_2\", \"src2dst_packets_3\"]\n",
    "\n",
    "# Convert to DataFrame\n",
    "df = pd.DataFrame(pertubed_adversarial_feature, columns=adversarial_feature)\n",
    "\n",
    "print(df)"
   ]
  }
 ],
 "metadata": {
  "kernelspec": {
   "display_name": ".venv",
   "language": "python",
   "name": "python3"
  },
  "language_info": {
   "codemirror_mode": {
    "name": "ipython",
    "version": 3
   },
   "file_extension": ".py",
   "mimetype": "text/x-python",
   "name": "python",
   "nbconvert_exporter": "python",
   "pygments_lexer": "ipython3",
   "version": "3.11.11"
  }
 },
 "nbformat": 4,
 "nbformat_minor": 2
}
